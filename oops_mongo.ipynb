{
 "cells": [
  {
   "cell_type": "code",
   "execution_count": 241,
   "id": "9e059d44",
   "metadata": {},
   "outputs": [],
   "source": [
    "import pymongo\n",
    "import pprint\n",
    "class Mongo:\n",
    "    def __init__(self,userid,password):#yashmohite 12345678ym\n",
    "        self.userid = userid\n",
    "        self.password = password\n",
    "        \n",
    "        \n",
    "    def connection(self):\n",
    "        print(\"This function help to connect to mongo db\")\n",
    "        url = \"mongodb+srv://\" + self.userid +\":\" + self.password + \"@cluster0.urvqe3y.mongodb.net/?retryWrites=true&w=majority\"\n",
    "        client = pymongo.MongoClient(url)\n",
    "        return client\n",
    "    \n",
    "    \n",
    "    def insert_data(self,data):\n",
    "        conn = self.connection()\n",
    "        print(\"this help to insert data in mongodb\")\n",
    "        db = conn[\"mongodb_test\"]\n",
    "        collection = db[\"mongo_record\"]\n",
    "        collection.insert_many(data)\n",
    "        \n",
    "    def fetch_data(self):\n",
    "        conn = self.connection()\n",
    "        print(\"this function help to fetch data from mongodb\")\n",
    "        print(\"this help to insert data in mongodb\")\n",
    "        db = conn[\"mongodb_test\"]\n",
    "        collection = db[\"mongo_record\"]\n",
    "        for i in collection.find():\n",
    "            print(i)\n",
    "    \n",
    "    def update(self,query={},new_data={}):\n",
    "        conn = self.connection()\n",
    "        print(\"this function help to update data\")\n",
    "        print(\"this help to insert data in mongodb\")\n",
    "        db = conn[\"mongodb_test\"]\n",
    "        collection = db[\"mongo_record\"]\n",
    "        collection.update_one(query,{\"$set\":new_data})\n",
    "                 \n",
    "            \n",
    "    def delete(self,query={}):\n",
    "        conn = self.connection()\n",
    "        print(\"this method delete data from database\")\n",
    "        db = conn[\"mongodb_test\"]\n",
    "        collection = db[\"mongo_record\"]\n",
    "        collection.delete_one(query)\n",
    "        \n",
    "    def query(self,query={}):\n",
    "        conn = self.connection()\n",
    "        db = conn[\"mongodb_test\"]\n",
    "        collection = db[\"mongo_record\"]\n",
    "        for i in collection.find(query):\n",
    "            print(i)\n",
    "            \n",
    "    def find_specific(self,query={},data={}):\n",
    "        conn = self.connection()\n",
    "        db = conn[\"mongodb_test\"]\n",
    "        collection = db[\"mongo_record\"]\n",
    "        for i in collection.find(query,data):\n",
    "            print(i)\n",
    "        \n",
    "                 \n",
    "        \n",
    "    "
   ]
  },
  {
   "cell_type": "code",
   "execution_count": 242,
   "id": "1e76ad27",
   "metadata": {},
   "outputs": [],
   "source": [
    "m = Mongo(\"yashmohite\",\"12345678ym\")"
   ]
  },
  {
   "cell_type": "code",
   "execution_count": 213,
   "id": "304b57cf",
   "metadata": {},
   "outputs": [
    {
     "name": "stdout",
     "output_type": "stream",
     "text": [
      "This function help to connect to mongo db\n"
     ]
    },
    {
     "data": {
      "text/plain": [
       "MongoClient(host=['ac-d6qyvfk-shard-00-00.urvqe3y.mongodb.net:27017', 'ac-d6qyvfk-shard-00-02.urvqe3y.mongodb.net:27017', 'ac-d6qyvfk-shard-00-01.urvqe3y.mongodb.net:27017'], document_class=dict, tz_aware=False, connect=True, retrywrites=True, w='majority', authsource='admin', replicaset='atlas-lkhn33-shard-0', tls=True)"
      ]
     },
     "execution_count": 213,
     "metadata": {},
     "output_type": "execute_result"
    }
   ],
   "source": [
    "m.connection()"
   ]
  },
  {
   "cell_type": "code",
   "execution_count": 214,
   "id": "c44923ba",
   "metadata": {},
   "outputs": [
    {
     "name": "stdout",
     "output_type": "stream",
     "text": [
      "This function help to connect to mongo db\n",
      "this help to insert data in mongodb\n"
     ]
    }
   ],
   "source": [
    "m.insert_data([{\"ids\": 6, \"name\": \"yash\",\"number\":842494},{\"ids\": 6, \"name\": \"yash\",\"number\":842494}])"
   ]
  },
  {
   "cell_type": "code",
   "execution_count": null,
   "id": "9f458951",
   "metadata": {},
   "outputs": [],
   "source": []
  },
  {
   "cell_type": "code",
   "execution_count": 225,
   "id": "ea120a4f",
   "metadata": {},
   "outputs": [
    {
     "name": "stdout",
     "output_type": "stream",
     "text": [
      "This function help to connect to mongo db\n",
      "this function help to update data\n",
      "this help to insert data in mongodb\n"
     ]
    }
   ],
   "source": [
    "m.update({'ids': 6},{\"ids\":10})"
   ]
  },
  {
   "cell_type": "code",
   "execution_count": 237,
   "id": "627bbc38",
   "metadata": {},
   "outputs": [
    {
     "name": "stdout",
     "output_type": "stream",
     "text": [
      "This function help to connect to mongo db\n",
      "this function help to fetch data from mongodb\n",
      "this help to insert data in mongodb\n",
      "{'_id': ObjectId('63cd2e64b176fdaa241dda9f'), 'ids': 10, 'name': 'yash', 'number': 842494}\n",
      "{'_id': ObjectId('63cd2e88b176fdaa241ddaa7'), 'ids': 6, 'name': 'yash', 'number': 842494}\n",
      "{'_id': ObjectId('63cd30edb176fdaa241ddaab'), 'ids': 6, 'name': 'yash', 'number': 842494}\n",
      "{'_id': ObjectId('63cd30edb176fdaa241ddaac'), 'ids': 6, 'name': 'yash', 'number': 842494}\n",
      "{'_id': ObjectId('63cd316bb176fdaa241ddab3'), 'ids': 6, 'name': 'yash', 'number': 842494}\n",
      "{'_id': ObjectId('63cd316bb176fdaa241ddab4'), 'ids': 6, 'name': 'yash', 'number': 842494}\n",
      "{'_id': ObjectId('63cd31d6b176fdaa241ddaba'), 'ids': 6, 'name': 'yash', 'number': 842494}\n",
      "{'_id': ObjectId('63cd31d6b176fdaa241ddabb'), 'ids': 6, 'name': 'yash', 'number': 842494}\n",
      "{'_id': ObjectId('63cd3266b176fdaa241ddac1'), 'ids': 6, 'name': 'yash', 'number': 842494}\n",
      "{'_id': ObjectId('63cd3266b176fdaa241ddac2'), 'ids': 6, 'name': 'yash', 'number': 842494}\n",
      "{'_id': ObjectId('63cd3293b176fdaa241ddac7'), 'ids': 6, 'name': 'yash', 'number': 842494}\n",
      "{'_id': ObjectId('63cd3293b176fdaa241ddac8'), 'ids': 6, 'name': 'yash', 'number': 842494}\n",
      "{'_id': ObjectId('63cd33a3b176fdaa241ddacd'), 'ids': 6, 'name': 'yash', 'number': 842494}\n",
      "{'_id': ObjectId('63cd33a3b176fdaa241ddace'), 'ids': 6, 'name': 'yash', 'number': 842494}\n",
      "{'_id': ObjectId('63cd356bb176fdaa241ddad3'), 'ids': 6, 'name': 'yash', 'number': 842494}\n",
      "{'_id': ObjectId('63cd356bb176fdaa241ddad4'), 'ids': 6, 'name': 'yash', 'number': 842494}\n",
      "{'_id': ObjectId('63cd3610b176fdaa241ddadd'), 'ids': 6, 'name': 'yash', 'number': 842494}\n",
      "{'_id': ObjectId('63cd3610b176fdaa241ddade'), 'ids': 6, 'name': 'yash', 'number': 842494}\n"
     ]
    }
   ],
   "source": [
    "m.fetch_data()"
   ]
  },
  {
   "cell_type": "code",
   "execution_count": null,
   "id": "1a83599d",
   "metadata": {},
   "outputs": [],
   "source": []
  },
  {
   "cell_type": "code",
   "execution_count": 240,
   "id": "2976addb",
   "metadata": {},
   "outputs": [
    {
     "name": "stdout",
     "output_type": "stream",
     "text": [
      "This function help to connect to mongo db\n",
      "{'_id': ObjectId('63cd2e64b176fdaa241dda9f'), 'ids': 10, 'name': 'yash', 'number': 842494}\n"
     ]
    }
   ],
   "source": [
    "m.query({'ids':{\"$gt\":6}})"
   ]
  },
  {
   "cell_type": "code",
   "execution_count": 243,
   "id": "49f3bf23",
   "metadata": {},
   "outputs": [
    {
     "name": "stdout",
     "output_type": "stream",
     "text": [
      "This function help to connect to mongo db\n",
      "{'_id': ObjectId('63cd2e64b176fdaa241dda9f'), 'ids': 10}\n",
      "{'_id': ObjectId('63cd2e88b176fdaa241ddaa7'), 'ids': 6}\n",
      "{'_id': ObjectId('63cd30edb176fdaa241ddaab'), 'ids': 6}\n",
      "{'_id': ObjectId('63cd30edb176fdaa241ddaac'), 'ids': 6}\n",
      "{'_id': ObjectId('63cd316bb176fdaa241ddab3'), 'ids': 6}\n",
      "{'_id': ObjectId('63cd316bb176fdaa241ddab4'), 'ids': 6}\n",
      "{'_id': ObjectId('63cd31d6b176fdaa241ddaba'), 'ids': 6}\n",
      "{'_id': ObjectId('63cd31d6b176fdaa241ddabb'), 'ids': 6}\n",
      "{'_id': ObjectId('63cd3266b176fdaa241ddac1'), 'ids': 6}\n",
      "{'_id': ObjectId('63cd3266b176fdaa241ddac2'), 'ids': 6}\n",
      "{'_id': ObjectId('63cd3293b176fdaa241ddac7'), 'ids': 6}\n",
      "{'_id': ObjectId('63cd3293b176fdaa241ddac8'), 'ids': 6}\n",
      "{'_id': ObjectId('63cd33a3b176fdaa241ddacd'), 'ids': 6}\n",
      "{'_id': ObjectId('63cd33a3b176fdaa241ddace'), 'ids': 6}\n",
      "{'_id': ObjectId('63cd356bb176fdaa241ddad3'), 'ids': 6}\n",
      "{'_id': ObjectId('63cd356bb176fdaa241ddad4'), 'ids': 6}\n",
      "{'_id': ObjectId('63cd3610b176fdaa241ddadd'), 'ids': 6}\n",
      "{'_id': ObjectId('63cd3610b176fdaa241ddade'), 'ids': 6}\n"
     ]
    }
   ],
   "source": [
    "m.find_specific({},{'ids'})"
   ]
  },
  {
   "cell_type": "code",
   "execution_count": null,
   "id": "962cbb93",
   "metadata": {},
   "outputs": [],
   "source": []
  }
 ],
 "metadata": {
  "kernelspec": {
   "display_name": "Python 3 (ipykernel)",
   "language": "python",
   "name": "python3"
  },
  "language_info": {
   "codemirror_mode": {
    "name": "ipython",
    "version": 3
   },
   "file_extension": ".py",
   "mimetype": "text/x-python",
   "name": "python",
   "nbconvert_exporter": "python",
   "pygments_lexer": "ipython3",
   "version": "3.10.6"
  }
 },
 "nbformat": 4,
 "nbformat_minor": 5
}
