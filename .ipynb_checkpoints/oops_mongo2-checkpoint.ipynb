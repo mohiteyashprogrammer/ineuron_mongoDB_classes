{
 "cells": [
  {
   "cell_type": "code",
   "execution_count": 46,
   "id": "d3f8e9dc",
   "metadata": {},
   "outputs": [],
   "source": [
    "import pymongo\n",
    "\n",
    "class Mongo:\n",
    "    \n",
    "    def __init__(self,userid,password):#yashmohite 12345678ym\n",
    "        self.userid = userid\n",
    "        self.password = password\n",
    "        \n",
    "    def connection(self):\n",
    "        print(\"This function help to connect to mongodb\")\n",
    "        url = \"mongodb+srv://\" + self.userid +\":\" + self.password + \"@cluster0.urvqe3y.mongodb.net/?retryWrites=true&w=majority\"\n",
    "        client = pymongo.MongoClient(url)\n",
    "        return client\n",
    "    \n",
    "    def insert_one_data(self,data):\n",
    "        try:\n",
    "            conn = self.connection()\n",
    "            db = conn[\"Test\"]\n",
    "            collection = db[\"mongo\"]\n",
    "            collection.insert_one(data)\n",
    "        except Exception as e:\n",
    "            print(e)\n",
    "        \n",
    "    def insert_many_data(self,data):\n",
    "        try:\n",
    "            conn = self.connection()\n",
    "            db = conn[\"Test\"]\n",
    "            collection = db[\"mongo\"]\n",
    "            collection.insert_many(data)\n",
    "        except Exception as e:\n",
    "            print(e)\n",
    "                \n",
    "    def fatch_data_all(self):\n",
    "        try:\n",
    "            conn = self.connection()\n",
    "            db = conn[\"Test\"]\n",
    "            collection = db[\"mongo\"]\n",
    "            for i in collection.find():\n",
    "                print(i)\n",
    "        except Exception as e:\n",
    "            print(e)\n",
    "            \n",
    "    def fatch_one_data(self):\n",
    "        try:\n",
    "            conn = self.connection()\n",
    "            db = conn[\"Test\"]\n",
    "            collection = db[\"mongo\"]\n",
    "            return collection.find_one()\n",
    "        except Exception as e:\n",
    "            print(e)\n",
    "            \n",
    "    def update_one(self,query={},new_data={}):\n",
    "        try:\n",
    "            conn = self.connection()\n",
    "            db = conn[\"Test\"]\n",
    "            collection = db[\"mongo\"]\n",
    "            return collection.update_one(query,{\"$set\":new_data})\n",
    "        except Exception as e:\n",
    "            print(e)\n",
    "            \n",
    "    def update_many(self,query={},new_data={}):\n",
    "        try:\n",
    "            conn = self.connection()\n",
    "            db = conn[\"Test\"]\n",
    "            collection = db[\"mongo\"]\n",
    "            collection.update_many(query,{\"$set\":new_data})\n",
    "        except Exception as e:\n",
    "            print(e)\n",
    "            \n",
    "    def delete_one_record(self,query={}):\n",
    "        try:\n",
    "            conn = self.connection()\n",
    "            db = conn[\"Test\"]\n",
    "            collection = db[\"mongo\"]\n",
    "            collection.delete_one(query)\n",
    "        except Exception as e:\n",
    "            print(e)\n",
    "            \n",
    "    def delete_many_record(self,query={}):\n",
    "        try:\n",
    "            conn = self.connection()\n",
    "            db = conn[\"Test\"]\n",
    "            collection = db[\"mongo\"]\n",
    "            collection.delete_many(query)\n",
    "        except Exception as e:\n",
    "            print(e)\n",
    "            \n",
    "    def querys(self,query={}):\n",
    "        try:\n",
    "            conn = self.connection()\n",
    "            db = conn[\"Test\"]\n",
    "            collection = db[\"mongo\"]\n",
    "            for i in collection.find(query):\n",
    "                print(i)\n",
    "        except Exception as e:\n",
    "            print(e)\n",
    "            \n",
    "            \n",
    "    def find_specific(self,query={},data={}):\n",
    "        try:\n",
    "            conn = self.connection()\n",
    "            db = conn[\"Test\"]\n",
    "            collection = db[\"mongo\"]\n",
    "            for i in collection.find(query,data):\n",
    "                print(i)\n",
    "        except Exception as e:\n",
    "            print(e)\n",
    "        \n",
    "    \n",
    "    def show_databases(self):\n",
    "        try:\n",
    "            conn = self.connection()\n",
    "            return (conn.list_database_names())\n",
    "        except Exception as e:\n",
    "            print(e)\n",
    "            \n",
    "    def __str__(self):\n",
    "        return \"This MongoDB Class\"  "
   ]
  },
  {
   "cell_type": "code",
   "execution_count": 47,
   "id": "fe98da1a",
   "metadata": {},
   "outputs": [],
   "source": [
    "m = Mongo(\"yashmohite\", \"12345678ym\")"
   ]
  },
  {
   "cell_type": "code",
   "execution_count": 48,
   "id": "ea08a1ab",
   "metadata": {},
   "outputs": [
    {
     "name": "stdout",
     "output_type": "stream",
     "text": [
      "This function help to connect to mongodb\n"
     ]
    },
    {
     "data": {
      "text/plain": [
       "MongoClient(host=['ac-d6qyvfk-shard-00-01.urvqe3y.mongodb.net:27017', 'ac-d6qyvfk-shard-00-00.urvqe3y.mongodb.net:27017', 'ac-d6qyvfk-shard-00-02.urvqe3y.mongodb.net:27017'], document_class=dict, tz_aware=False, connect=True, retrywrites=True, w='majority', authsource='admin', replicaset='atlas-lkhn33-shard-0', tls=True)"
      ]
     },
     "execution_count": 48,
     "metadata": {},
     "output_type": "execute_result"
    }
   ],
   "source": [
    "m.connection()"
   ]
  },
  {
   "cell_type": "code",
   "execution_count": 11,
   "id": "e041b860",
   "metadata": {},
   "outputs": [
    {
     "name": "stdout",
     "output_type": "stream",
     "text": [
      "This function help to connect to mongodb\n"
     ]
    },
    {
     "data": {
      "text/plain": [
       "['Data',\n",
       " 'IPL',\n",
       " 'Love',\n",
       " 'One_Neuron',\n",
       " 'Test',\n",
       " 'Work',\n",
       " 'college',\n",
       " 'ineuron',\n",
       " 'mydatabase',\n",
       " 'school',\n",
       " 'admin',\n",
       " 'local']"
      ]
     },
     "execution_count": 11,
     "metadata": {},
     "output_type": "execute_result"
    }
   ],
   "source": [
    "m.show_databases()"
   ]
  },
  {
   "cell_type": "code",
   "execution_count": 10,
   "id": "b0e18b34",
   "metadata": {},
   "outputs": [
    {
     "name": "stdout",
     "output_type": "stream",
     "text": [
      "This function help to connect to mongodb\n"
     ]
    }
   ],
   "source": [
    "m.insert_many_data([\n",
    "    {\n",
    "    \"cource_name\":[\"Data Science\",\"Data Analytics\",\"Web Developement\",\"Big Data\",\"Devops\"],\n",
    "    \"cource_instructor\":[\"sudhanshu\" ,\"anand\" , \"shashank\" , \"hitesh\" , \"navin\"],\n",
    "    \"start_date\": 1-1-2023,\n",
    "    \"duration\": \"six months\",\n",
    "    \"mode\": \"offline\",\n",
    "    \"certification\": \"yes\",\n",
    "    \"mockinterview\": \"yes\",\n",
    "    \"price\": 15000,\n",
    "},{\n",
    "    \"cource_name\":[\"Data Science\",\"Data Analytics\",\"Web Developement\",\"Big Data\",\"Devops\"],\n",
    "    \"cource_instructor\":[\"sudhanshu\" ,\"anand\" , \"shashank\" , \"hitesh\" , \"navin\"],\n",
    "    \"start_date\": 14-6-2023,\n",
    "    \"duration\": \"seven months\",\n",
    "    \"mode\": \"online\",\n",
    "    \"certification\": \"yes\",\n",
    "    \"mockinterview\": \"yes\",\n",
    "    \"price\": 14000,\n",
    "},{\n",
    "    \"cource_name\":[\"Data Science\",\"Data Analytics\",\"Web Developement\",\"Big Data\",\"Devops\"],\n",
    "    \"cource_instructor\":[\"sudhanshu\" ,\"anand\" , \"shashank\" , \"hitesh\" , \"navin\"],\n",
    "    \"start_date\": 30-12-2023,\n",
    "    \"duration\": \"seven months\",\n",
    "    \"mode\": \"online\",\n",
    "    \"certification\": \"yes\",\n",
    "    \"mockinterview\": \"yes\",\n",
    "    \"price\": 14000,\n",
    "},{\n",
    "    \"cource_name\":[\"Data Science\",\"Data Analytics\",\"Web Developement\",\"Big Data\",\"Devops\"],\n",
    "    \"cource_instructor\":[\"sudhanshu\" ,\"anand\" , \"shashank\" , \"hitesh\" , \"navin\"],\n",
    "    \"start_date\": 1-1-2024,\n",
    "    \"duration\": \"eight months\",\n",
    "    \"mode\": \"online \",\n",
    "    \"certification\": \"yes\",\n",
    "    \"mockinterview\": \"yes\",\n",
    "    \"price\": 17000,\n",
    "},{\n",
    "    \"cource_name\":[\"Data Science\",\"Data Analytics\",\"Web Developement\",\"Big Data\",\"Devops\"],\n",
    "    \"cource_instructor\":[\"sudhanshu\" ,\"anand\" , \"shashank\" , \"hitesh\" , \"navin\"],\n",
    "    \"start_date\": 30-6-2024,\n",
    "    \"duration\": \"eight months\",\n",
    "    \"mode\": \"offline\",\n",
    "    \"certification\": \"yes\",\n",
    "    \"mockinterview\": \"yes\",\n",
    "    \"price\": 17000,\n",
    "},{\n",
    "    \"cource_name\":[\"Big Data Crash Cource\"],\n",
    "    \"cource_instructor\":[\"sudhanshu\" ,\"anand\" , \"shashank\" , \"hitesh\" , \"navin\"],\n",
    "    \"start_date\": 1-7-2024,\n",
    "    \"duration\": \"one month\",\n",
    "    \"mode\": \"online\",\n",
    "    \"certification\": \"yes\",\n",
    "    \"mockinterview\": \"yes\",\n",
    "    \"price\": 1500,\n",
    "},{\n",
    "    \"cource_name\":[\"Data Science\",\"Data Analytics\",\"Web Developement\",\"Big Data\",\"Devops\"],\n",
    "    \"cource_instructor\":[\"sudhanshu\" ,\"anand\" , \"shashank\" , \"hitesh\" , \"navin\"],\n",
    "    \"start_date\": 18-12-2024,\n",
    "    \"duration\": \"nine months\",\n",
    "    \"mode\": \"online\",\n",
    "    \"certification\": \"yes\",\n",
    "    \"mockinterview\": \"yes\",\n",
    "    \"price\": 18000,\n",
    "},{\n",
    "    \"cource_name\":[\"Data Science\",\"Data Analytics\",\"Web Developement\",\"Big Data\",\"Devops\"],\n",
    "    \"cource_instructor\":[\"sudhanshu\" ,\"anand\" , \"shashank\" , \"hitesh\" , \"navin\"],\n",
    "    \"start_date\": 1-1-2025,\n",
    "    \"duration\": \"one year\",\n",
    "    \"mode\": \"online\",\n",
    "    \"certification\": \"yes\",\n",
    "    \"mockinterview\": \"yes\",\n",
    "    \"price\": 20000,\n",
    "},{\n",
    "    \"cource_name\":[\"Data Science\",\"Data Analytics\",\"Web Developement\",\"Big Data\",\"Devops\"],\n",
    "    \"cource_instructor\":[\"sudhanshu\" ,\"anand\" , \"shashank\" , \"hitesh\" , \"navin\"],\n",
    "    \"start_date\": 1-1-2026,\n",
    "    \"duration\": \"one year\",\n",
    "    \"mode\": \"online\",\n",
    "    \"certification\": \"yes\",\n",
    "    \"mockinterview\": \"yes\",\n",
    "    \"price\": 17000,\n",
    "},{\n",
    "    \"cource_name\":[\"Data Science\",\"Data Analytics\",\"Web Developement\",\"Big Data\",\"Devops\"],\n",
    "    \"cource_instructor\":[\"sudhanshu\" ,\"anand\" , \"shashank\" , \"hitesh\" , \"navin\"],\n",
    "    \"start_date\": 1-1-2027,\n",
    "    \"duration\": \"nine months\",\n",
    "    \"mode\": \"offline\",\n",
    "    \"certification\": \"yes\",\n",
    "    \"mockinterview\": \"yes\",\n",
    "    \"price\": 25000,\n",
    "}\n",
    "])"
   ]
  },
  {
   "cell_type": "code",
   "execution_count": 19,
   "id": "ce36d822",
   "metadata": {},
   "outputs": [
    {
     "name": "stdout",
     "output_type": "stream",
     "text": [
      "This function help to connect to mongodb\n",
      "{'_id': ObjectId('63ce733f2260a70cfc0b5f44'), 'cource_name': ['Data Science', 'Data Analytics', 'Web Developement', 'Big Data', 'Devops'], 'cource_instructor': ['sudhanshu', 'anand', 'shashank', 'hitesh', 'navin'], 'start_date': -2023, 'duration': 'six months', 'mode': 'offline', 'certification': 'yes', 'mockinterview': 'yes', 'price': 15000}\n",
      "{'_id': ObjectId('63ce733f2260a70cfc0b5f45'), 'cource_name': ['Data Science', 'Data Analytics', 'Web Developement', 'Big Data', 'Devops'], 'cource_instructor': ['sudhanshu', 'anand', 'shashank', 'hitesh', 'navin'], 'start_date': -2015, 'duration': 'seven months', 'mode': 'online', 'certification': 'yes', 'mockinterview': 'yes', 'price': 14000}\n",
      "{'_id': ObjectId('63ce733f2260a70cfc0b5f46'), 'cource_name': ['Data Science', 'Data Analytics', 'Web Developement', 'Big Data', 'Devops'], 'cource_instructor': ['sudhanshu', 'anand', 'shashank', 'hitesh', 'navin'], 'start_date': -2005, 'duration': 'seven months', 'mode': 'online', 'certification': 'yes', 'mockinterview': 'yes', 'price': 14000}\n",
      "{'_id': ObjectId('63ce733f2260a70cfc0b5f47'), 'cource_name': ['Data Science', 'Data Analytics', 'Web Developement', 'Big Data', 'Devops'], 'cource_instructor': ['sudhanshu', 'anand', 'shashank', 'hitesh', 'navin'], 'start_date': -2024, 'duration': 'eight months', 'mode': 'online ', 'certification': 'yes', 'mockinterview': 'yes', 'price': 17000}\n",
      "{'_id': ObjectId('63ce733f2260a70cfc0b5f48'), 'cource_name': ['Data Science', 'Data Analytics', 'Web Developement', 'Big Data', 'Devops'], 'cource_instructor': ['sudhanshu', 'anand', 'shashank', 'hitesh', 'navin'], 'start_date': -2000, 'duration': 'eight months', 'mode': 'offline', 'certification': 'yes', 'mockinterview': 'yes', 'price': 17000}\n",
      "{'_id': ObjectId('63ce733f2260a70cfc0b5f49'), 'cource_name': ['Big Data Crash Cource'], 'cource_instructor': ['sudhanshu', 'anand', 'shashank', 'hitesh', 'navin'], 'start_date': -2030, 'duration': 'one month', 'mode': 'online', 'certification': 'yes', 'mockinterview': 'yes', 'price': 1500}\n",
      "{'_id': ObjectId('63ce733f2260a70cfc0b5f4a'), 'cource_name': ['Data Science', 'Data Analytics', 'Web Developement', 'Big Data', 'Devops'], 'cource_instructor': ['sudhanshu', 'anand', 'shashank', 'hitesh', 'navin'], 'start_date': -2018, 'duration': 'nine months', 'mode': 'online', 'certification': 'yes', 'mockinterview': 'yes', 'price': 18000}\n",
      "{'_id': ObjectId('63ce733f2260a70cfc0b5f4b'), 'cource_name': ['Data Science', 'Data Analytics', 'Web Developement', 'Big Data', 'Devops'], 'cource_instructor': ['sudhanshu', 'anand', 'shashank', 'hitesh', 'navin'], 'start_date': -2025, 'duration': 'one year', 'mode': 'online', 'certification': 'yes', 'mockinterview': 'yes', 'price': 20000}\n",
      "{'_id': ObjectId('63ce733f2260a70cfc0b5f4c'), 'cource_name': ['Data Science', 'Data Analytics', 'Web Developement', 'Big Data', 'Devops'], 'cource_instructor': ['sudhanshu', 'anand', 'shashank', 'hitesh', 'navin'], 'start_date': -2026, 'duration': 'one year', 'mode': 'online', 'certification': 'yes', 'mockinterview': 'yes', 'price': 17000}\n",
      "{'_id': ObjectId('63ce733f2260a70cfc0b5f4d'), 'cource_name': ['Data Science', 'Data Analytics', 'Web Developement', 'Big Data', 'Devops'], 'cource_instructor': ['sudhanshu', 'anand', 'shashank', 'hitesh', 'navin'], 'start_date': -2027, 'duration': 'nine months', 'mode': 'offline', 'certification': 'yes', 'mockinterview': 'yes', 'price': 25000}\n"
     ]
    }
   ],
   "source": [
    "m.fatch_data_all()"
   ]
  },
  {
   "cell_type": "code",
   "execution_count": 29,
   "id": "d0d6c0c1",
   "metadata": {},
   "outputs": [
    {
     "name": "stdout",
     "output_type": "stream",
     "text": [
      "This function help to connect to mongodb\n"
     ]
    },
    {
     "data": {
      "text/plain": [
       "{'_id': ObjectId('63ce733f2260a70cfc0b5f44'),\n",
       " 'cource_name': ['Data Science',\n",
       "  'Data Analytics',\n",
       "  'Web Developement',\n",
       "  'Big Data',\n",
       "  'Devops'],\n",
       " 'cource_instructor': ['sudhanshu', 'anand', 'shashank', 'hitesh', 'navin'],\n",
       " 'start_date': -2023,\n",
       " 'duration': 'six months',\n",
       " 'mode': 'offline',\n",
       " 'certification': 'yes',\n",
       " 'mockinterview': 'yes',\n",
       " 'price': 15000}"
      ]
     },
     "execution_count": 29,
     "metadata": {},
     "output_type": "execute_result"
    }
   ],
   "source": [
    "m.fatch_one_data()"
   ]
  },
  {
   "cell_type": "code",
   "execution_count": 30,
   "id": "f5326c60",
   "metadata": {},
   "outputs": [
    {
     "name": "stdout",
     "output_type": "stream",
     "text": [
      "This function help to connect to mongodb\n",
      "{'_id': ObjectId('63ce733f2260a70cfc0b5f44'), 'price': 15000}\n",
      "{'_id': ObjectId('63ce733f2260a70cfc0b5f45'), 'price': 14000}\n",
      "{'_id': ObjectId('63ce733f2260a70cfc0b5f46'), 'price': 14000}\n",
      "{'_id': ObjectId('63ce733f2260a70cfc0b5f47'), 'price': 17000}\n",
      "{'_id': ObjectId('63ce733f2260a70cfc0b5f48'), 'price': 17000}\n",
      "{'_id': ObjectId('63ce733f2260a70cfc0b5f49'), 'price': 1500}\n",
      "{'_id': ObjectId('63ce733f2260a70cfc0b5f4a'), 'price': 18000}\n",
      "{'_id': ObjectId('63ce733f2260a70cfc0b5f4b'), 'price': 20000}\n",
      "{'_id': ObjectId('63ce733f2260a70cfc0b5f4c'), 'price': 17000}\n",
      "{'_id': ObjectId('63ce733f2260a70cfc0b5f4d'), 'price': 25000}\n"
     ]
    }
   ],
   "source": [
    "m.find_specific({},{'price': 15000})"
   ]
  },
  {
   "cell_type": "code",
   "execution_count": 31,
   "id": "f6657e91",
   "metadata": {},
   "outputs": [
    {
     "name": "stdout",
     "output_type": "stream",
     "text": [
      "This function help to connect to mongodb\n",
      "{'_id': ObjectId('63ce733f2260a70cfc0b5f44'), 'cource_name': ['Data Science', 'Data Analytics', 'Web Developement', 'Big Data', 'Devops'], 'cource_instructor': ['sudhanshu', 'anand', 'shashank', 'hitesh', 'navin'], 'start_date': -2023, 'duration': 'six months', 'mode': 'offline', 'certification': 'yes', 'mockinterview': 'yes', 'price': 15000}\n"
     ]
    }
   ],
   "source": [
    "m.querys({'price': 15000})"
   ]
  },
  {
   "cell_type": "code",
   "execution_count": 35,
   "id": "3587a00b",
   "metadata": {},
   "outputs": [
    {
     "name": "stdout",
     "output_type": "stream",
     "text": [
      "This function help to connect to mongodb\n"
     ]
    }
   ],
   "source": [
    "m.update_many({'price': 15000},{'price':16000})"
   ]
  },
  {
   "cell_type": "code",
   "execution_count": 37,
   "id": "04fcfeb4",
   "metadata": {},
   "outputs": [
    {
     "name": "stdout",
     "output_type": "stream",
     "text": [
      "This function help to connect to mongodb\n",
      "{'_id': ObjectId('63ce733f2260a70cfc0b5f44'), 'price': 16000}\n",
      "{'_id': ObjectId('63ce733f2260a70cfc0b5f45'), 'price': 14000}\n",
      "{'_id': ObjectId('63ce733f2260a70cfc0b5f46'), 'price': 14000}\n",
      "{'_id': ObjectId('63ce733f2260a70cfc0b5f47'), 'price': 17000}\n",
      "{'_id': ObjectId('63ce733f2260a70cfc0b5f48'), 'price': 17000}\n",
      "{'_id': ObjectId('63ce733f2260a70cfc0b5f49'), 'price': 1500}\n",
      "{'_id': ObjectId('63ce733f2260a70cfc0b5f4a'), 'price': 18000}\n",
      "{'_id': ObjectId('63ce733f2260a70cfc0b5f4b'), 'price': 20000}\n",
      "{'_id': ObjectId('63ce733f2260a70cfc0b5f4c'), 'price': 17000}\n",
      "{'_id': ObjectId('63ce733f2260a70cfc0b5f4d'), 'price': 25000}\n"
     ]
    }
   ],
   "source": []
  },
  {
   "cell_type": "code",
   "execution_count": 39,
   "id": "2ee6aa9e",
   "metadata": {},
   "outputs": [
    {
     "name": "stdout",
     "output_type": "stream",
     "text": [
      "This function help to connect to mongodb\n",
      "{'_id': ObjectId('63ce733f2260a70cfc0b5f44'), 'cource_name': ['Data Science', 'Data Analytics', 'Web Developement', 'Big Data', 'Devops'], 'cource_instructor': ['sudhanshu', 'anand', 'shashank', 'hitesh', 'navin'], 'start_date': -2023, 'duration': 'six months', 'mode': 'offline', 'certification': 'yes', 'mockinterview': 'yes', 'price': 16000}\n"
     ]
    }
   ],
   "source": [
    "m.querys({'price': 16000})"
   ]
  },
  {
   "cell_type": "code",
   "execution_count": 40,
   "id": "81dafdc5",
   "metadata": {},
   "outputs": [
    {
     "name": "stdout",
     "output_type": "stream",
     "text": [
      "This function help to connect to mongodb\n"
     ]
    }
   ],
   "source": [
    "m.update_one({'price': 16000},{'price':100})"
   ]
  },
  {
   "cell_type": "code",
   "execution_count": 41,
   "id": "40dc3a07",
   "metadata": {},
   "outputs": [
    {
     "name": "stdout",
     "output_type": "stream",
     "text": [
      "This function help to connect to mongodb\n",
      "{'_id': ObjectId('63ce733f2260a70cfc0b5f44'), 'cource_name': ['Data Science', 'Data Analytics', 'Web Developement', 'Big Data', 'Devops'], 'cource_instructor': ['sudhanshu', 'anand', 'shashank', 'hitesh', 'navin'], 'start_date': -2023, 'duration': 'six months', 'mode': 'offline', 'certification': 'yes', 'mockinterview': 'yes', 'price': 100}\n"
     ]
    }
   ],
   "source": [
    "m.querys({'price': 100})"
   ]
  },
  {
   "cell_type": "code",
   "execution_count": 51,
   "id": "02d6b288",
   "metadata": {},
   "outputs": [
    {
     "name": "stdout",
     "output_type": "stream",
     "text": [
      "This function help to connect to mongodb\n"
     ]
    }
   ],
   "source": [
    "m.delete_many_record({\"price\":100})"
   ]
  },
  {
   "cell_type": "code",
   "execution_count": 54,
   "id": "192e207b",
   "metadata": {},
   "outputs": [
    {
     "name": "stdout",
     "output_type": "stream",
     "text": [
      "This function help to connect to mongodb\n",
      "{'_id': ObjectId('63ce733f2260a70cfc0b5f45'), 'price': 16000}\n",
      "{'_id': ObjectId('63ce733f2260a70cfc0b5f46'), 'price': 16000}\n",
      "{'_id': ObjectId('63ce733f2260a70cfc0b5f47'), 'price': 17000}\n",
      "{'_id': ObjectId('63ce733f2260a70cfc0b5f48'), 'price': 17000}\n",
      "{'_id': ObjectId('63ce733f2260a70cfc0b5f49'), 'price': 1500}\n",
      "{'_id': ObjectId('63ce733f2260a70cfc0b5f4a'), 'price': 18000}\n",
      "{'_id': ObjectId('63ce733f2260a70cfc0b5f4b'), 'price': 20000}\n",
      "{'_id': ObjectId('63ce733f2260a70cfc0b5f4c'), 'price': 17000}\n",
      "{'_id': ObjectId('63ce733f2260a70cfc0b5f4d'), 'price': 25000}\n"
     ]
    }
   ],
   "source": [
    "m.find_specific({},{'price'})"
   ]
  },
  {
   "cell_type": "code",
   "execution_count": 53,
   "id": "db6834ef",
   "metadata": {},
   "outputs": [
    {
     "name": "stdout",
     "output_type": "stream",
     "text": [
      "This function help to connect to mongodb\n"
     ]
    }
   ],
   "source": [
    "m.update_many({'price': 14000},{'price':16000})"
   ]
  },
  {
   "cell_type": "code",
   "execution_count": 65,
   "id": "cefd6bea",
   "metadata": {},
   "outputs": [
    {
     "name": "stdout",
     "output_type": "stream",
     "text": [
      "This function help to connect to mongodb\n",
      "{'_id': ObjectId('63ce733f2260a70cfc0b5f48'), 'mode': 'offline'}\n",
      "{'_id': ObjectId('63ce733f2260a70cfc0b5f4d'), 'mode': 'offline'}\n"
     ]
    }
   ],
   "source": [
    "m.find_specific({},{\"mode\"})"
   ]
  },
  {
   "cell_type": "code",
   "execution_count": 64,
   "id": "126a7519",
   "metadata": {},
   "outputs": [
    {
     "name": "stdout",
     "output_type": "stream",
     "text": [
      "This function help to connect to mongodb\n"
     ]
    }
   ],
   "source": [
    "m.delete_many_record({'mode': 'online'})"
   ]
  },
  {
   "cell_type": "code",
   "execution_count": 66,
   "id": "e14024d2",
   "metadata": {},
   "outputs": [
    {
     "name": "stdout",
     "output_type": "stream",
     "text": [
      "This function help to connect to mongodb\n",
      "{'_id': ObjectId('63ce733f2260a70cfc0b5f48'), 'cource_name': ['Data Science', 'Data Analytics', 'Web Developement', 'Big Data', 'Devops'], 'cource_instructor': ['sudhanshu', 'anand', 'shashank', 'hitesh', 'navin'], 'start_date': -2000, 'duration': 'eight months', 'mode': 'offline', 'certification': 'yes', 'mockinterview': 'yes', 'price': 17000}\n",
      "{'_id': ObjectId('63ce733f2260a70cfc0b5f4d'), 'cource_name': ['Data Science', 'Data Analytics', 'Web Developement', 'Big Data', 'Devops'], 'cource_instructor': ['sudhanshu', 'anand', 'shashank', 'hitesh', 'navin'], 'start_date': -2027, 'duration': 'nine months', 'mode': 'offline', 'certification': 'yes', 'mockinterview': 'yes', 'price': 25000}\n"
     ]
    }
   ],
   "source": [
    "m.fatch_data_all()"
   ]
  },
  {
   "cell_type": "code",
   "execution_count": 68,
   "id": "d0cbc980",
   "metadata": {},
   "outputs": [
    {
     "name": "stdout",
     "output_type": "stream",
     "text": [
      "This function help to connect to mongodb\n",
      "{'_id': ObjectId('63ce733f2260a70cfc0b5f48'), 'price': 17000}\n",
      "{'_id': ObjectId('63ce733f2260a70cfc0b5f4d'), 'price': 25000}\n"
     ]
    }
   ],
   "source": [
    "m.find_specific({},{\"price\"})"
   ]
  },
  {
   "cell_type": "code",
   "execution_count": 70,
   "id": "e397ae55",
   "metadata": {},
   "outputs": [
    {
     "name": "stdout",
     "output_type": "stream",
     "text": [
      "This function help to connect to mongodb\n",
      "{'_id': ObjectId('63ce733f2260a70cfc0b5f4d'), 'cource_name': ['Data Science', 'Data Analytics', 'Web Developement', 'Big Data', 'Devops'], 'cource_instructor': ['sudhanshu', 'anand', 'shashank', 'hitesh', 'navin'], 'start_date': -2027, 'duration': 'nine months', 'mode': 'offline', 'certification': 'yes', 'mockinterview': 'yes', 'price': 25000}\n"
     ]
    }
   ],
   "source": [
    "m.querys({\"price\":{\"$gt\":20000}})"
   ]
  },
  {
   "cell_type": "code",
   "execution_count": 71,
   "id": "c251551c",
   "metadata": {},
   "outputs": [
    {
     "name": "stdout",
     "output_type": "stream",
     "text": [
      "This function help to connect to mongodb\n",
      "{'_id': ObjectId('63ce733f2260a70cfc0b5f48'), 'cource_name': ['Data Science', 'Data Analytics', 'Web Developement', 'Big Data', 'Devops'], 'cource_instructor': ['sudhanshu', 'anand', 'shashank', 'hitesh', 'navin'], 'start_date': -2000, 'duration': 'eight months', 'mode': 'offline', 'certification': 'yes', 'mockinterview': 'yes', 'price': 17000}\n"
     ]
    }
   ],
   "source": [
    "m.querys({\"price\":{\"$lt\":20000}})"
   ]
  },
  {
   "cell_type": "code",
   "execution_count": 72,
   "id": "a01155e7",
   "metadata": {},
   "outputs": [
    {
     "name": "stdout",
     "output_type": "stream",
     "text": [
      "This function help to connect to mongodb\n"
     ]
    }
   ],
   "source": [
    "m.insert_one_data( {\n",
    "    \"cource_name\":[\"Data Science\",\"Data Analytics\",\"Web Developement\",\"Big Data\",\"Devops\"],\n",
    "    \"cource_instructor\":[\"sudhanshu\" ,\"anand\" , \"shashank\" , \"hitesh\" , \"navin\"],\n",
    "    \"start_date\": 1-1-2023,\n",
    "    \"duration\": \"six months\",\n",
    "    \"mode\": \"offline\",\n",
    "    \"certification\": \"yes\",\n",
    "    \"mockinterview\": \"yes\",\n",
    "    \"price\": 15000,\n",
    "})"
   ]
  },
  {
   "cell_type": "code",
   "execution_count": 74,
   "id": "88d77a58",
   "metadata": {},
   "outputs": [
    {
     "name": "stdout",
     "output_type": "stream",
     "text": [
      "This function help to connect to mongodb\n",
      "{'_id': ObjectId('63ce733f2260a70cfc0b5f48'), 'cource_name': ['Data Science', 'Data Analytics', 'Web Developement', 'Big Data', 'Devops'], 'cource_instructor': ['sudhanshu', 'anand', 'shashank', 'hitesh', 'navin'], 'start_date': -2000, 'duration': 'eight months', 'mode': 'offline', 'certification': 'yes', 'mockinterview': 'yes', 'price': 17000}\n",
      "{'_id': ObjectId('63ce733f2260a70cfc0b5f4d'), 'cource_name': ['Data Science', 'Data Analytics', 'Web Developement', 'Big Data', 'Devops'], 'cource_instructor': ['sudhanshu', 'anand', 'shashank', 'hitesh', 'navin'], 'start_date': -2027, 'duration': 'nine months', 'mode': 'offline', 'certification': 'yes', 'mockinterview': 'yes', 'price': 25000}\n",
      "{'_id': ObjectId('63ce7d042260a70cfc0b5f80'), 'cource_name': ['Data Science', 'Data Analytics', 'Web Developement', 'Big Data', 'Devops'], 'cource_instructor': ['sudhanshu', 'anand', 'shashank', 'hitesh', 'navin'], 'start_date': -2023, 'duration': 'six months', 'mode': 'offline', 'certification': 'yes', 'mockinterview': 'yes', 'price': 15000}\n"
     ]
    }
   ],
   "source": [
    "m.fatch_data_all()"
   ]
  },
  {
   "cell_type": "code",
   "execution_count": null,
   "id": "98db4a4b",
   "metadata": {},
   "outputs": [],
   "source": []
  }
 ],
 "metadata": {
  "kernelspec": {
   "display_name": "Python 3 (ipykernel)",
   "language": "python",
   "name": "python3"
  },
  "language_info": {
   "codemirror_mode": {
    "name": "ipython",
    "version": 3
   },
   "file_extension": ".py",
   "mimetype": "text/x-python",
   "name": "python",
   "nbconvert_exporter": "python",
   "pygments_lexer": "ipython3",
   "version": "3.10.6"
  }
 },
 "nbformat": 4,
 "nbformat_minor": 5
}
